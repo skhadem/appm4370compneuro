{
 "cells": [
  {
   "cell_type": "markdown",
   "metadata": {},
   "source": [
    "### Noisy integrate-and-fire neurons"
   ]
  },
  {
   "cell_type": "markdown",
   "metadata": {},
   "source": [
    "Prior to this point, we have consider IF models whose inputs are *deterministic*, in which case (when considering linear models) we can solve precisely for the evolution of the voltage over time. When inputs to the IF model are *noisy*, we must take a different approach in which we can only describe the probability of a certain trajectory _or_ we can just look at the dynamics of a single *realization* (or instance) of noise to the model."
   ]
  },
  {
   "cell_type": "markdown",
   "metadata": {},
   "source": [
    "To start, note that now, we're going to consider a leaky integrate and fire model receiving both constant $\\bar{I}$ and noisy $I_{\\rm noise}(t)$ input:\n",
    "$$\n",
    "\\frac{du}{dt} = - \\alpha u + \\bar{I} + I_{\\rm noise}(t), \\ \\ \\ \\ \\ \\ \\ {\\rm if} \\ u(T) = \\theta, \\ u(T^+) \\mapsto 0,\n",
    "$$\n",
    "where $\\alpha = 1/\\tau$ now accounts for the rate of the leak, input is scaled by capacitance, we have shifted the resting potential to be zero, and $\\theta$ is the threshold. We consider $I_{\\rm noise}(t)$ that takes the form of *white noise* with unit variance. One way to understand the white noise, is to see how the above equation is implemented using a *stochastic* version of Euler's method, where\n",
    "$$\n",
    "u(t + \\Delta t) = u(t) + \\Delta t (-\\alpha u(t) + \\bar{I}) + \\sqrt{2 \\Delta t} {\\mathcal N}(0,1).\n",
    "$$\n",
    "Here, the final term ${\\mathcal N}(0,1)$ represents a normal random variable, which can be implemented in python using the command numpy.random.randn():"
   ]
  },
  {
   "cell_type": "code",
   "execution_count": 1,
   "metadata": {},
   "outputs": [
    {
     "data": {
      "text/plain": [
       "-0.2454591954329802"
      ]
     },
     "execution_count": 1,
     "metadata": {},
     "output_type": "execute_result"
    }
   ],
   "source": [
    "import numpy as np\n",
    "import numpy.random as rnd\n",
    "import matplotlib.pyplot as plt\n",
    "\n",
    "rnd.randn()"
   ]
  },
  {
   "cell_type": "markdown",
   "metadata": {},
   "source": [
    "Note, each time we run rnd.randn(), a different random number will be generated, drawn from a normal distribution:"
   ]
  },
  {
   "cell_type": "code",
   "execution_count": 2,
   "metadata": {},
   "outputs": [
    {
     "data": {
      "text/plain": [
       "0.43144878382950236"
      ]
     },
     "execution_count": 2,
     "metadata": {},
     "output_type": "execute_result"
    }
   ],
   "source": [
    "rnd.rand()"
   ]
  },
  {
   "cell_type": "markdown",
   "metadata": {},
   "source": [
    "We can go a step further by allowing the variance of the normal random variable to be a constant $\\sigma^2$, which is done by scaling the result by $\\sigma$ (the standard deviation), so for instance, if we want $\\sigma = 0.1$ in ${\\mathcal N}(0,\\sigma^2)$."
   ]
  },
  {
   "cell_type": "code",
   "execution_count": 3,
   "metadata": {},
   "outputs": [
    {
     "data": {
      "text/plain": [
       "0.08697111807757549"
      ]
     },
     "execution_count": 3,
     "metadata": {},
     "output_type": "execute_result"
    }
   ],
   "source": [
    "s = 0.1\n",
    "s*rnd.rand()"
   ]
  },
  {
   "cell_type": "markdown",
   "metadata": {},
   "source": [
    "As before, each time we draw a random variable, it will be different. This means that each time the noisy IF model above is simulated, there will be a different random sequence of input kicks over time, meaning each simulation will lead to a different voltage trajectory -- this is much more like how neurons in the brain behaves, since they are constantly receiving a barrage of background noisy input. With this in mind, we now program the noisy leaky integrate-and-fire model and see how voltage trajectories and spike times look."
   ]
  },
  {
   "cell_type": "code",
   "execution_count": 4,
   "metadata": {},
   "outputs": [
    {
     "data": {
      "image/png": "[encoded data removed]",
      "text/plain": [
       "<Figure size 360x360 with 1 Axes>"
      ]
     },
     "metadata": {
      "needs_background": "light"
     },
     "output_type": "display_data"
    }
   ],
   "source": [
    "alf = 1    # membrane time constant (ms)\\\n",
    "I = 0.95       # capacitance scaled input current (mA/F)\n",
    "th = 1     # spiking threshold (mV)\n",
    "s = 0.1      # noise standard deviation\n",
    "\n",
    "T = 20      # total time to run\n",
    "dt = 0.001   # time step\n",
    "nt = int(np.round(T/dt)+1)     # number of entries in vector array\n",
    "tvec = np.linspace(0,T,nt)     # time vector (ms)\n",
    "\n",
    "u = np.zeros(nt)   # vector of voltage entries (mV)\n",
    "st = []             # initialize vector of spike times (ms)\n",
    "\n",
    "for j in np.arange(nt-1):\n",
    "    u[j+1] = u[j]+dt*(I-alf*u[j])+np.sqrt(2*dt)*s*rnd.randn();\n",
    "    if u[j+1]>th:\n",
    "        u[j+1]=0;                   # reset the voltage to resting potential\n",
    "        st = np.append(st,tvec[j+1])    # add on another spike time\n",
    "        \n",
    "fig = plt.figure(figsize=(5,5))  # initialize figure with a given area in inches\n",
    "plt.plot(tvec,u,linewidth=4.0)  # plot command with vectors as arguments\n",
    "plt.plot(st,np.full_like(st,th),'ro')\n",
    "plt.xlabel('time (ms)')         # label for x-axis\n",
    "plt.ylabel('voltage (mV)')      # label for y-axis\n",
    "plt.show()                      # needed in order to actually produce the plot for you to see"
   ]
  },
  {
   "cell_type": "markdown",
   "metadata": {},
   "source": [
    "Notice, in the above, depending on what we make the noise variance $\\sigma^2$, the frequency of spikes changes. Though it is not straightforward to see in a single simulation, the larger $\\sigma^2$ is, the higher the spike frequency because it is simply more probable that a very noisy trajectory will hit the threshold."
   ]
  },
  {
   "cell_type": "markdown",
   "metadata": {},
   "source": [
    "Note, we are saving the spike times as a vector in the above simulation. This data can be analyzed to get a sense of how varying parameters influences spike statistics. First, we can simply find the average rate of spiking. More generally, we can find the distribution of spike times. However, to do this, we need sufficient statistics, and so must run our simulation a lot longer."
   ]
  },
  {
   "cell_type": "code",
   "execution_count": 5,
   "metadata": {},
   "outputs": [],
   "source": [
    "alf = 1    # membrane time constant (ms)\\\n",
    "I = 0.95       # capacitance scaled input current (mA/F)\n",
    "th = 1     # spiking threshold (mV)\n",
    "s = 0.1      # noise standard deviation\n",
    "\n",
    "T = 20000      # total time to run\n",
    "dt = 0.01   # time step\n",
    "nt = int(np.round(T/dt)+1)     # number of entries in vector array\n",
    "tvec = np.linspace(0,T,nt)     # time vector (ms)\n",
    "\n",
    "u = np.zeros(nt)   # vector of voltage entries (mV)\n",
    "st = []             # initialize vector of spike times (ms)\n",
    "\n",
    "for j in np.arange(nt-1):\n",
    "    u[j+1] = u[j]+dt*(I-alf*u[j])+np.sqrt(2*dt)*s*rnd.randn();\n",
    "    if u[j+1]>th:\n",
    "        u[j+1]=0;                   # reset the voltage to resting potential\n",
    "        st = np.append(st,tvec[j+1])    # add on another spike time"
   ]
  },
  {
   "cell_type": "markdown",
   "metadata": {},
   "source": [
    "Now, to find the mean spike rate, we simply average the time between spikes and take the inverse."
   ]
  },
  {
   "cell_type": "code",
   "execution_count": 6,
   "metadata": {},
   "outputs": [
    {
     "name": "stdout",
     "output_type": "stream",
     "text": [
      "0.26082663132951045\n"
     ]
    }
   ],
   "source": [
    "isi = np.diff(st)\n",
    "mst = np.mean(isi)\n",
    "mr = 1/mst\n",
    "print(mr)"
   ]
  },
  {
   "cell_type": "markdown",
   "metadata": {},
   "source": [
    "We can also compute the variance of the spike intervals, which tells us how much spread there is in the distribution of interspike interval values."
   ]
  },
  {
   "cell_type": "code",
   "execution_count": 7,
   "metadata": {},
   "outputs": [
    {
     "name": "stdout",
     "output_type": "stream",
     "text": [
      "3.1435950052483594\n"
     ]
    }
   ],
   "source": [
    "vst = np.var(isi)\n",
    "print(vst)"
   ]
  },
  {
   "cell_type": "markdown",
   "metadata": {},
   "source": [
    "A slightly more straightforward way to get the above statistics is to specify the number of spikes we wish to see ahead of time. Then, we know how many data points will go into computing mean and variance. To do this, we run multiple simulations that always start over at the initial voltage value zero, as follows. Note also, we do not really need to save the vector of voltages each time, as we're only interested in the spike time."
   ]
  },
  {
   "cell_type": "code",
   "execution_count": 8,
   "metadata": {},
   "outputs": [],
   "source": [
    "alf = 1    # membrane time constant (ms)\\\n",
    "I = 0.95       # capacitance scaled input current (mA/F)\n",
    "th = 1     # spiking threshold (mV)\n",
    "s = 0.1      # noise standard deviation\n",
    "\n",
    "Nsim = 1000      # total number of simulations to run to obtain isi data\n",
    "dt = 0.01   # time step\n",
    "isi = np.zeros(Nsim)             # initialize vector of spike times (ms)\n",
    "\n",
    "for j in np.arange(Nsim):\n",
    "    u=0\n",
    "    t=0\n",
    "    while u<th:\n",
    "        u =u+dt*(I-alf*u)+np.sqrt(2*dt)*s*rnd.randn();\n",
    "        t=t+dt\n",
    "    isi[j-1]=t"
   ]
  },
  {
   "cell_type": "markdown",
   "metadata": {},
   "source": [
    "Then, we can compute mean and variance as before."
   ]
  },
  {
   "cell_type": "code",
   "execution_count": 9,
   "metadata": {},
   "outputs": [
    {
     "name": "stdout",
     "output_type": "stream",
     "text": [
      "0.2604716098968819\n",
      "3.121940043899869\n"
     ]
    }
   ],
   "source": [
    "mst = np.mean(isi)\n",
    "mr = 1/mst\n",
    "print(mr)\n",
    "\n",
    "vst = np.var(isi)\n",
    "print(vst)"
   ]
  },
  {
   "cell_type": "markdown",
   "metadata": {},
   "source": [
    "But let's go one step further and plot a histogram of spike times using `hist' command."
   ]
  },
  {
   "cell_type": "code",
   "execution_count": 10,
   "metadata": {},
   "outputs": [
    {
     "data": {
      "text/plain": [
       "(array([119., 390., 249., 130.,  54.,  25.,  18.,   5.,   5.,   5.]),\n",
       " array([ 1.01 ,  2.215,  3.42 ,  4.625,  5.83 ,  7.035,  8.24 ,  9.445,\n",
       "        10.65 , 11.855, 13.06 ]),\n",
       " <a list of 10 Patch objects>)"
      ]
     },
     "execution_count": 10,
     "metadata": {},
     "output_type": "execute_result"
    },
    {
     "data": {
      "image/png": "[encoded data removed]",
      "text/plain": [
       "<Figure size 432x288 with 1 Axes>"
      ]
     },
     "metadata": {
      "needs_background": "light"
     },
     "output_type": "display_data"
    }
   ],
   "source": [
    "plt.hist(isi)"
   ]
  },
  {
   "cell_type": "markdown",
   "metadata": {},
   "source": [
    "We can change the fineness of the binning by increasing or decreasing the number of bins:"
   ]
  },
  {
   "cell_type": "code",
   "execution_count": 11,
   "metadata": {},
   "outputs": [
    {
     "data": {
      "text/plain": [
       "(array([  3.,   1.,  16.,  45.,  54.,  64.,  87., 100.,  67.,  72.,  61.,\n",
       "         57.,  38.,  55.,  38.,  31.,  29.,  26.,  30.,  14.,  17.,  10.,\n",
       "          5.,  13.,   9.,   9.,   3.,   5.,   6.,   2.,   4.,   2.,   5.,\n",
       "          2.,   5.,   2.,   2.,   1.,   0.,   0.,   1.,   2.,   2.,   0.,\n",
       "          0.,   2.,   0.,   2.,   0.,   1.]),\n",
       " array([ 1.01 ,  1.251,  1.492,  1.733,  1.974,  2.215,  2.456,  2.697,\n",
       "         2.938,  3.179,  3.42 ,  3.661,  3.902,  4.143,  4.384,  4.625,\n",
       "         4.866,  5.107,  5.348,  5.589,  5.83 ,  6.071,  6.312,  6.553,\n",
       "         6.794,  7.035,  7.276,  7.517,  7.758,  7.999,  8.24 ,  8.481,\n",
       "         8.722,  8.963,  9.204,  9.445,  9.686,  9.927, 10.168, 10.409,\n",
       "        10.65 , 10.891, 11.132, 11.373, 11.614, 11.855, 12.096, 12.337,\n",
       "        12.578, 12.819, 13.06 ]),\n",
       " <a list of 50 Patch objects>)"
      ]
     },
     "execution_count": 11,
     "metadata": {},
     "output_type": "execute_result"
    },
    {
     "data": {
      "image/png": "[encoded data removed]",
      "text/plain": [
       "<Figure size 432x288 with 1 Axes>"
      ]
     },
     "metadata": {
      "needs_background": "light"
     },
     "output_type": "display_data"
    }
   ],
   "source": [
    "plt.hist(isi,50)"
   ]
  },
  {
   "cell_type": "markdown",
   "metadata": {},
   "source": [
    "This can be used to empirically approximate a probability density function (pdf) by making sure it `integrates' to one."
   ]
  },
  {
   "cell_type": "code",
   "execution_count": 13,
   "metadata": {},
   "outputs": [
    {
     "data": {
      "image/png": "[encoded data removed]",
      "text/plain": [
       "<Figure size 432x288 with 1 Axes>"
      ]
     },
     "metadata": {
      "needs_background": "light"
     },
     "output_type": "display_data"
    }
   ],
   "source": [
    "_,_,_ = plt.hist(isi, bins = 50, density=True)"
   ]
  },
  {
   "cell_type": "code",
   "execution_count": 12,
   "metadata": {},
   "outputs": [
    {
     "data": {
      "text/plain": [
       "Text(0,0.5,'pdf')"
      ]
     },
     "execution_count": 12,
     "metadata": {},
     "output_type": "execute_result"
    },
    {
     "data": {
      "image/png": "[encoded data removed]",
      "text/plain": [
       "<Figure size 432x288 with 1 Axes>"
      ]
     },
     "metadata": {
      "needs_background": "light"
     },
     "output_type": "display_data"
    }
   ],
   "source": [
    "[xc,xe] = np.histogram(isi,50)\n",
    "dx=xe[1]-xe[0]\n",
    "xc=xc/dx/np.size(isi)\n",
    "xcent=(xe[0:50]+xe[1:51])/2\n",
    "\n",
    "plt.bar(xcent,xc)\n",
    "plt.xlabel('interspike interval (ms)')         # label for x-axis\n",
    "plt.ylabel('pdf')      # label for y-axis"
   ]
  }
 ],
 "metadata": {
  "kernelspec": {
   "display_name": "Python 3",
   "language": "python",
   "name": "python3"
  },
  "language_info": {
   "codemirror_mode": {
    "name": "ipython",
    "version": 2
   },
   "file_extension": ".py",
   "mimetype": "text/x-python",
   "name": "python",
   "nbconvert_exporter": "python",
   "pygments_lexer": "ipython2",
   "version": "2.7.15+"
  }
 },
 "nbformat": 4,
 "nbformat_minor": 2
}
