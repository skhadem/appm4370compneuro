{
 "cells": [
  {
   "cell_type": "markdown",
   "metadata": {},
   "source": [
    "### Noisy integrate-and-fire neurons"
   ]
  },
  {
   "cell_type": "markdown",
   "metadata": {},
   "source": [
    "Prior to this point, we have consider IF models whose inputs are *deterministic*, in which case (when considering linear models) we can solve precisely for the evolution of the voltage over time. When inputs to the IF model are *noisy*, we must take a different approach in which we can only describe the probability of a certain trajectory _or_ we can just look at the dynamics of a single *realization* (or instance) of noise to the model."
   ]
  },
  {
   "cell_type": "markdown",
   "metadata": {},
   "source": [
    "To start, note that now, we're going to consider a leaky integrate and fire model receiving both constant $\\bar{I}$ and noisy $I_{\\rm noise}(t)$ input:\n",
    "$$\n",
    "\\frac{du}{dt} = - \\alpha u + \\bar{I} + I_{\\rm noise}(t), \\ \\ \\ \\ \\ \\ \\ {\\rm if} \\ u(T) = \\theta, \\ u(T^+) \\mapsto 0,\n",
    "$$\n",
    "where $\\alpha = 1/\\tau$ now accounts for the rate of the leak, input is scaled by capacitance, we have shifted the resting potential to be zero, and $\\theta$ is the threshold. We consider $I_{\\rm noise}(t)$ that takes the form of *white noise* with unit variance. One way to understand the white noise, is to see how the above equation is implemented using a *stochastic* version of Euler's method, where\n",
    "$$\n",
    "u(t + \\Delta t) = u(t) + \\Delta t (-\\alpha u(t) + \\bar{I}) + \\sqrt{2 \\Delta t} {\\mathcal N}(0,1).\n",
    "$$\n",
    "Here, the final term ${\\mathcal N}(0,1)$ represents a normal random variable, which can be implemented in python using the command numpy.random.randn():"
   ]
  },
  {
   "cell_type": "code",
   "execution_count": 2,
   "metadata": {},
   "outputs": [
    {
     "data": {
      "text/plain": [
       "0.54454784953013"
      ]
     },
     "execution_count": 2,
     "metadata": {},
     "output_type": "execute_result"
    }
   ],
   "source": [
    "import numpy as np\n",
    "import numpy.random as rnd\n",
    "import matplotlib.pyplot as plt\n",
    "\n",
    "rnd.randn()"
   ]
  },
  {
   "cell_type": "markdown",
   "metadata": {},
   "source": [
    "Note, each time we run rnd.randn(), a different random number will be generated, drawn from a normal distribution:"
   ]
  },
  {
   "cell_type": "code",
   "execution_count": 3,
   "metadata": {},
   "outputs": [
    {
     "data": {
      "text/plain": [
       "0.029748876097981602"
      ]
     },
     "execution_count": 3,
     "metadata": {},
     "output_type": "execute_result"
    }
   ],
   "source": [
    "rnd.rand()"
   ]
  },
  {
   "cell_type": "markdown",
   "metadata": {},
   "source": [
    "We can go a step further by allowing the variance of the normal random variable to be a constant $\\sigma^2$, which is done by scaling the result by $\\sigma$ (the standard deviation), so for instance, if we want $\\sigma = 0.1$ in ${\\mathcal N}(0,\\sigma^2)$."
   ]
  },
  {
   "cell_type": "code",
   "execution_count": 4,
   "metadata": {},
   "outputs": [
    {
     "data": {
      "text/plain": [
       "0.04208710388610827"
      ]
     },
     "execution_count": 4,
     "metadata": {},
     "output_type": "execute_result"
    }
   ],
   "source": [
    "s = 0.1\n",
    "s*rnd.rand()"
   ]
  },
  {
   "cell_type": "markdown",
   "metadata": {},
   "source": [
    "As before, each time we draw a random variable, it will be different. This means that each time the noisy IF model above is simulated, there will be a different random sequence of input kicks over time, meaning each simulation will lead to a different voltage trajectory -- this is much more like how neurons in the brain behaves, since they are constantly receiving a barrage of background noisy input. With this in mind, we now program the noisy leaky integrate-and-fire model and see how voltage trajectories and spike times look."
   ]
  },
  {
   "cell_type": "code",
   "execution_count": 5,
   "metadata": {},
   "outputs": [
    {
     "data": {
      "image/png": "[encoded data removed]",
      "text/plain": [
       "<Figure size 360x360 with 1 Axes>"
      ]
     },
     "metadata": {
      "needs_background": "light"
     },
     "output_type": "display_data"
    }
   ],
   "source": [
    "alf = 1    # membrane time constant (ms)\\\n",
    "I = 0.95       # capacitance scaled input current (mA/F)\n",
    "th = 1     # spiking threshold (mV)\n",
    "s = 0.1      # noise standard deviation\n",
    "\n",
    "T = 20      # total time to run\n",
    "dt = 0.001   # time step\n",
    "nt = int(np.round(T/dt)+1)     # number of entries in vector array\n",
    "tvec = np.linspace(0,T,nt)     # time vector (ms)\n",
    "\n",
    "u = np.zeros(nt)   # vector of voltage entries (mV)\n",
    "st = []             # initialize vector of spike times (ms)\n",
    "\n",
    "for j in np.arange(nt-1):\n",
    "    u[j+1] = u[j]+dt*(I-alf*u[j])+np.sqrt(2*dt)*s*rnd.randn();\n",
    "    if u[j+1]>th:\n",
    "        u[j+1]=0;                   # reset the voltage to resting potential\n",
    "        st = np.append(st,tvec[j+1])    # add on another spike time\n",
    "        \n",
    "fig = plt.figure(figsize=(5,5))  # initialize figure with a given area in inches\n",
    "plt.plot(tvec,u,linewidth=4.0)  # plot command with vectors as arguments\n",
    "plt.plot(st,np.full_like(st,th),'ro')\n",
    "plt.xlabel('time (ms)')         # label for x-axis\n",
    "plt.ylabel('voltage (mV)')      # label for y-axis\n",
    "plt.show()                      # needed in order to actually produce the plot for you to see"
   ]
  },
  {
   "cell_type": "markdown",
   "metadata": {},
   "source": [
    "Notice, in the above, depending on what we make the noise variance $\\sigma^2$, the frequency of spikes changes. Though it is not straightforward to see in a single simulation, the larger $\\sigma^2$ is, the higher the spike frequency because it is simply more probable that a very noisy trajectory will hit the threshold."
   ]
  },
  {
   "cell_type": "markdown",
   "metadata": {},
   "source": [
    "Note, we are saving the spike times as a vector in the above simulation. This data can be analyzed to get a sense of how varying parameters influences spike statistics. First, we can simply find the average rate of spiking. More generally, we can find the distribution of spike times. However, to do this, we need sufficient statistics, and so must run our simulation a lot longer."
   ]
  },
  {
   "cell_type": "code",
   "execution_count": 6,
   "metadata": {},
   "outputs": [],
   "source": [
    "alf = 1    # membrane time constant (ms)\\\n",
    "I = 0.95       # capacitance scaled input current (mA/F)\n",
    "th = 1     # spiking threshold (mV)\n",
    "s = 0.1      # noise standard deviation\n",
    "\n",
    "T = 20000      # total time to run\n",
    "dt = 0.01   # time step\n",
    "nt = int(np.round(T/dt)+1)     # number of entries in vector array\n",
    "tvec = np.linspace(0,T,nt)     # time vector (ms)\n",
    "\n",
    "u = np.zeros(nt)   # vector of voltage entries (mV)\n",
    "st = []             # initialize vector of spike times (ms)\n",
    "\n",
    "for j in np.arange(nt-1):\n",
    "    u[j+1] = u[j]+dt*(I-alf*u[j])+np.sqrt(2*dt)*s*rnd.randn();\n",
    "    if u[j+1]>th:\n",
    "        u[j+1]=0;                   # reset the voltage to resting potential\n",
    "        st = np.append(st,tvec[j+1])    # add on another spike time"
   ]
  },
  {
   "cell_type": "markdown",
   "metadata": {},
   "source": [
    "Now, to find the mean spike rate, we simply average the time between spikes and take the inverse."
   ]
  },
  {
   "cell_type": "code",
   "execution_count": 7,
   "metadata": {},
   "outputs": [
    {
     "name": "stdout",
     "output_type": "stream",
     "text": [
      "0.26121334423597725\n"
     ]
    }
   ],
   "source": [
    "isi = np.diff(st)\n",
    "mst = np.mean(isi)\n",
    "mr = 1/mst\n",
    "print(mr)"
   ]
  },
  {
   "cell_type": "markdown",
   "metadata": {},
   "source": [
    "We can also compute the variance of the spike intervals, which tells us how much spread there is in the distribution of interspike interval values."
   ]
  },
  {
   "cell_type": "code",
   "execution_count": 8,
   "metadata": {},
   "outputs": [
    {
     "name": "stdout",
     "output_type": "stream",
     "text": [
      "2.9669107979628464\n"
     ]
    }
   ],
   "source": [
    "vst = np.var(isi)\n",
    "print(vst)"
   ]
  },
  {
   "cell_type": "markdown",
   "metadata": {},
   "source": [
    "A slightly more straightforward way to get the above statistics is to specify the number of spikes we wish to see ahead of time. Then, we know how many data points will go into computing mean and variance. To do this, we run multiple simulations that always start over at the initial voltage value zero, as follows. Note also, we do not really need to save the vector of voltages each time, as we're only interested in the spike time."
   ]
  },
  {
   "cell_type": "code",
   "execution_count": 9,
   "metadata": {},
   "outputs": [],
   "source": [
    "alf = 1    # membrane time constant (ms)\\\n",
    "I = 0.95       # capacitance scaled input current (mA/F)\n",
    "th = 1     # spiking threshold (mV)\n",
    "s = 0.1      # noise standard deviation\n",
    "\n",
    "Nsim = 1000      # total number of simulations to run to obtain isi data\n",
    "dt = 0.01   # time step\n",
    "isi = np.zeros(Nsim)             # initialize vector of spike times (ms)\n",
    "\n",
    "for j in np.arange(Nsim):\n",
    "    u=0\n",
    "    t=0\n",
    "    while u<th:\n",
    "        u =u+dt*(I-alf*u)+np.sqrt(2*dt)*s*rnd.randn();\n",
    "        t=t+dt\n",
    "    isi[j-1]=t"
   ]
  },
  {
   "cell_type": "markdown",
   "metadata": {},
   "source": [
    "Then, we can compute mean and variance as before."
   ]
  },
  {
   "cell_type": "code",
   "execution_count": 10,
   "metadata": {},
   "outputs": [
    {
     "name": "stdout",
     "output_type": "stream",
     "text": [
      "0.2622641262015001\n",
      "3.050249197499872\n"
     ]
    }
   ],
   "source": [
    "mst = np.mean(isi)\n",
    "mr = 1/mst\n",
    "print(mr)\n",
    "\n",
    "vst = np.var(isi)\n",
    "print(vst)"
   ]
  },
  {
   "cell_type": "markdown",
   "metadata": {},
   "source": [
    "But let's go one step further and plot a histogram of spike times using `hist' command."
   ]
  },
  {
   "cell_type": "code",
   "execution_count": 11,
   "metadata": {},
   "outputs": [
    {
     "data": {
      "text/plain": [
       "(array([297., 376., 195.,  76.,  30.,  17.,   4.,   0.,   2.,   3.]),\n",
       " array([ 1.35 ,  2.736,  4.122,  5.508,  6.894,  8.28 ,  9.666, 11.052,\n",
       "        12.438, 13.824, 15.21 ]),\n",
       " <a list of 10 Patch objects>)"
      ]
     },
     "execution_count": 11,
     "metadata": {},
     "output_type": "execute_result"
    },
    {
     "data": {
      "image/png": "[encoded data removed]",
      "text/plain": [
       "<Figure size 432x288 with 1 Axes>"
      ]
     },
     "metadata": {
      "needs_background": "light"
     },
     "output_type": "display_data"
    }
   ],
   "source": [
    "plt.hist(isi)"
   ]
  },
  {
   "cell_type": "markdown",
   "metadata": {},
   "source": [
    "We can change the fineness of the binning by increasing or decreasing the number of bins:"
   ]
  },
  {
   "cell_type": "code",
   "execution_count": 12,
   "metadata": {},
   "outputs": [
    {
     "data": {
      "text/plain": [
       "(array([19., 30., 66., 92., 90., 81., 91., 77., 67., 60., 45., 52., 33.,\n",
       "        33., 32., 17., 19., 15., 13., 12.,  4., 14.,  6.,  3.,  3.,  5.,\n",
       "         5.,  3.,  1.,  3.,  2.,  0.,  0.,  0.,  2.,  0.,  0.,  0.,  0.,\n",
       "         0.,  0.,  1.,  0.,  1.,  0.,  1.,  0.,  1.,  0.,  1.]),\n",
       " array([ 1.35  ,  1.6272,  1.9044,  2.1816,  2.4588,  2.736 ,  3.0132,\n",
       "         3.2904,  3.5676,  3.8448,  4.122 ,  4.3992,  4.6764,  4.9536,\n",
       "         5.2308,  5.508 ,  5.7852,  6.0624,  6.3396,  6.6168,  6.894 ,\n",
       "         7.1712,  7.4484,  7.7256,  8.0028,  8.28  ,  8.5572,  8.8344,\n",
       "         9.1116,  9.3888,  9.666 ,  9.9432, 10.2204, 10.4976, 10.7748,\n",
       "        11.052 , 11.3292, 11.6064, 11.8836, 12.1608, 12.438 , 12.7152,\n",
       "        12.9924, 13.2696, 13.5468, 13.824 , 14.1012, 14.3784, 14.6556,\n",
       "        14.9328, 15.21  ]),\n",
       " <a list of 50 Patch objects>)"
      ]
     },
     "execution_count": 12,
     "metadata": {},
     "output_type": "execute_result"
    },
    {
     "data": {
      "image/png": "[encoded data removed]",
      "text/plain": [
       "<Figure size 432x288 with 1 Axes>"
      ]
     },
     "metadata": {
      "needs_background": "light"
     },
     "output_type": "display_data"
    }
   ],
   "source": [
    "plt.hist(isi,50)"
   ]
  },
  {
   "cell_type": "markdown",
   "metadata": {},
   "source": [
    "This can be used to empirically approximate a probability density function (pdf) by making sure it `integrates' to one."
   ]
  },
  {
   "cell_type": "code",
   "execution_count": 13,
   "metadata": {},
   "outputs": [
    {
     "data": {
      "text/plain": [
       "Text(0, 0.5, 'pdf')"
      ]
     },
     "execution_count": 13,
     "metadata": {},
     "output_type": "execute_result"
    },
    {
     "data": {
      "image/png": "[encoded data removed]",
      "text/plain": [
       "<Figure size 432x288 with 1 Axes>"
      ]
     },
     "metadata": {
      "needs_background": "light"
     },
     "output_type": "display_data"
    }
   ],
   "source": [
    "https://github.com/skhadem/appm4370compneuro.git[xc,xe] = np.histogram(isi,50)\n",
    "dx=xe[1]-xe[0]\n",
    "xc=xc/dx/np.size(isi)\n",
    "xcent=(xe[0:50]+xe[1:51])/2\n",
    "\n",
    "plt.bar(xcent,xc)\n",
    "plt.xlabel('interspike interval (ms)')         # label for x-axis\n",
    "plt.ylabel('pdf')      # label for y-axis"
   ]
  }
 ],
 "metadata": {
  "kernelspec": {
   "display_name": "Python 3",
   "language": "python",
   "name": "python3"
  },
  "language_info": {
   "codemirror_mode": {
    "name": "ipython",
    "version": 2
   },
   "file_extension": ".py",
   "mimetype": "text/x-python",
   "name": "python",
   "nbconvert_exporter": "python",
   "pygments_lexer": "ipython2",
   "version": "2.7.15+"
  }
 },
 "nbformat": 4,
 "nbformat_minor": 2
}
